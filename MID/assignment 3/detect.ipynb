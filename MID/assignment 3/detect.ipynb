{
  "cells": [
    {
      "cell_type": "markdown",
      "metadata": {
        "id": "Ke26eN4YALAo"
      },
      "source": [
        "# Handwritten Digit Recognition System\n",
        "\n",
        "This notebook uses a pre-trained CNN model to identify handwritten digits (0-9) using your webcam.\n",
        "\n",
        "## Features\n",
        "- Real-time webcam capture\n",
        "- Image preprocessing\n",
        "- Digit prediction with confidence scores\n",
        "- Detailed analysis and visualization\n",
        "\n",
        "## Requirements\n",
        "- Google Colab environment\n",
        "- Webcam access permission\n",
        "- Trained MNIST CNN model in Google Drive\n",
        "\n",
        "## Libraries and Setup"
      ]
    },
    {
      "cell_type": "code",
      "execution_count": null,
      "metadata": {
        "colab": {
          "base_uri": "https://localhost:8080/"
        },
        "id": "Oh8rVpYgT6hI",
        "outputId": "7ba00137-6295-4f14-9686-bbdf6dd747f3"
      },
      "outputs": [
        {
          "name": "stdout",
          "output_type": "stream",
          "text": [
            "Drive already mounted at /content/drive; to attempt to forcibly remount, call drive.mount(\"/content/drive\", force_remount=True).\n"
          ]
        },
        {
          "name": "stderr",
          "output_type": "stream",
          "text": [
            "WARNING:absl:Compiled the loaded model, but the compiled metrics have yet to be built. `model.compile_metrics` will be empty until you train or evaluate the model.\n"
          ]
        },
        {
          "name": "stdout",
          "output_type": "stream",
          "text": [
            "Model loaded successfully.\n"
          ]
        }
      ],
      "source": [
        "# Import required libraries\n",
        "print(\"Initializing Digit Recognition System...\")\n",
        "\n",
        "from google.colab import drive\n",
        "import os\n",
        "import warnings\n",
        "\n",
        "# Suppress warnings for cleaner output\n",
        "warnings.filterwarnings('ignore')\n",
        "\n",
        "# Mount Google Drive\n",
        "print(\"Mounting Google Drive...\")\n",
        "drive.mount('/content/drive')\n",
        "\n",
        "# Import necessary libraries\n",
        "import tensorflow as tf\n",
        "from tensorflow import keras\n",
        "import numpy as np\n",
        "import cv2\n",
        "import matplotlib.pyplot as plt\n",
        "from IPython.display import display, Javascript\n",
        "from google.colab.output import eval_js\n",
        "from base64 import b64decode\n",
        "\n",
        "print(\"Libraries imported successfully!\")\n",
        "print(f\"TensorFlow version: {tf.__version__}\")\n",
        "\n",
        "# Define model path\n",
        "model_load_path = '/content/drive/My Drive/models/mnist_cnn_model.h5'\n",
        "\n",
        "print(f\"Checking for trained model at: {model_load_path}\")\n",
        "\n",
        "# Load the trained model\n",
        "try:\n",
        "    if not os.path.exists(model_load_path):\n",
        "        raise FileNotFoundError(f\"Model file not found at {model_load_path}\")\n",
        "    \n",
        "    model = keras.models.load_model(model_load_path)\n",
        "    print(\"Model loaded successfully!\")\n",
        "    print(f\"Model has {len(model.layers)} layers\")\n",
        "    print(f\"Total parameters: {model.count_params():,}\")\n",
        "    \n",
        "except FileNotFoundError as e:\n",
        "    print(f\"Error: {e}\")\n",
        "    print(\"Instructions:\")\n",
        "    print(\"1. Run 'train file.ipynb' first to train and save the model\")\n",
        "    print(\"2. Ensure the model is saved to the correct Google Drive path\")\n",
        "    model = None\n",
        "    \n",
        "except Exception as e:\n",
        "    print(f\"Error loading model: {e}\")\n",
        "    model = None\n",
        "\n",
        "if model is not None:\n",
        "    print(\"System ready for digit recognition!\")\n",
        "else:\n",
        "    print(\"System initialization failed. Please fix the model loading issue first.\")"
      ]
    },
    {
      "cell_type": "markdown",
      "metadata": {
        "id": "0n2k-JZYw4_i"
      },
      "source": [
        "## Image Capture and Processing\n",
        "\n",
        "This section captures images from your webcam and processes them for digit recognition."
      ]
    },
    {
      "cell_type": "code",
      "execution_count": null,
      "metadata": {
        "colab": {
          "base_uri": "https://localhost:8080/",
          "height": 537
        },
        "id": "XOKuxYu5w7Sh",
        "outputId": "a0490a24-5cf5-4f0d-bd6e-8f943bda0489"
      },
      "outputs": [
        {
          "name": "stdout",
          "output_type": "stream",
          "text": [
            "Please draw a digit on a white background, ensuring it fills a good portion of the frame.\n"
          ]
        },
        {
          "data": {
            "application/javascript": "\n        async function takePhoto(quality) {\n            const div = document.createElement('div');\n            const capture = document.createElement('button');\n            capture.textContent = 'Capture Image';\n            div.appendChild(capture);\n\n            const video = document.createElement('video');\n            video.style.display = 'block';\n            const stream = await navigator.mediaDevices.getUserMedia({video: true});\n            document.body.appendChild(div);\n            div.appendChild(video);\n            video.srcObject = stream;\n            await video.play();\n\n            google.colab.output.setIframeHeight(document.documentElement.scrollHeight, true);\n\n            await new Promise((resolve) => capture.onclick = resolve);\n\n            const canvas = document.createElement('canvas');\n            canvas.width = video.videoWidth;\n            canvas.height = video.videoHeight;\n            canvas.getContext('2d').drawImage(video, 0, 0);\n            stream.getVideoTracks()[0].stop();\n            document.body.removeChild(div);\n            return canvas.toDataURL('image/jpeg', quality);\n        }\n        ",
            "text/plain": [
              "<IPython.core.display.Javascript object>"
            ]
          },
          "metadata": {},
          "output_type": "display_data"
        },
        {
          "name": "stdout",
          "output_type": "stream",
          "text": [
            "Image saved to photo.jpg\n",
            "\u001b[1m1/1\u001b[0m \u001b[32m━━━━━━━━━━━━━━━━━━━━\u001b[0m\u001b[37m\u001b[0m \u001b[1m0s\u001b[0m 117ms/step\n"
          ]
        },
        {
          "data": {
            "image/png": "[encoded data removed]",
            "text/plain": [
              "<Figure size 640x480 with 1 Axes>"
            ]
          },
          "metadata": {},
          "output_type": "display_data"
        },
        {
          "name": "stdout",
          "output_type": "stream",
          "text": [
            "\n",
            "The model predicts that the digit is: 7\n",
            "Confidence: 99.97%\n"
          ]
        }
      ],
      "source": [
        "# Function to capture image from webcam\n",
        "def take_photo(filename='photo.jpg', quality=0.8):\n",
        "    js = Javascript('''\n",
        "        async function takePhoto(quality) {\n",
        "            const div = document.createElement('div');\n",
        "            const capture = document.createElement('button');\n",
        "            capture.textContent = 'Capture Image';\n",
        "            div.appendChild(capture);\n",
        "\n",
        "            const video = document.createElement('video');\n",
        "            video.style.display = 'block';\n",
        "            const stream = await navigator.mediaDevices.getUserMedia({video: true});\n",
        "            document.body.appendChild(div);\n",
        "            div.appendChild(video);\n",
        "            video.srcObject = stream;\n",
        "            await video.play();\n",
        "\n",
        "            google.colab.output.setIframeHeight(document.documentElement.scrollHeight, true);\n",
        "\n",
        "            await new Promise((resolve) => capture.onclick = resolve);\n",
        "\n",
        "            const canvas = document.createElement('canvas');\n",
        "            canvas.width = video.videoWidth;\n",
        "            canvas.height = video.videoHeight;\n",
        "            canvas.getContext('2d').drawImage(video, 0, 0);\n",
        "            stream.getVideoTracks()[0].stop();\n",
        "            document.body.removeChild(div);\n",
        "            return canvas.toDataURL('image/jpeg', quality);\n",
        "        }\n",
        "        ''')\n",
        "    display(js)\n",
        "    data = eval_js('takePhoto({})'.format(quality))\n",
        "    binary = b64decode(data.split(',')[1])\n",
        "    with open(filename, 'wb') as f:\n",
        "        f.write(binary)\n",
        "    return filename\n",
        "\n",
        "def preprocess_image(image_path):\n",
        "    \"\"\"Process the captured image for digit recognition\"\"\"\n",
        "    try:\n",
        "        # Load original image\n",
        "        original_image = cv2.imread(image_path)\n",
        "        if original_image is None:\n",
        "            raise ValueError(\"Could not load the captured image.\")\n",
        "\n",
        "        # Convert to grayscale\n",
        "        gray_image = cv2.cvtColor(original_image, cv2.COLOR_BGR2GRAY)\n",
        "\n",
        "        # Invert the image (so digit is white, background is black)\n",
        "        inverted_image = cv2.bitwise_not(gray_image)\n",
        "\n",
        "        # Apply a binary threshold to get a clean black-and-white image\n",
        "        _, thresholded = cv2.threshold(inverted_image, 100, 255, cv2.THRESH_BINARY)\n",
        "\n",
        "        # Find the largest contour (the digit)\n",
        "        contours, _ = cv2.findContours(thresholded, cv2.RETR_EXTERNAL, cv2.CHAIN_APPROX_SIMPLE)\n",
        "\n",
        "        if len(contours) > 0:\n",
        "            largest_contour = max(contours, key=cv2.contourArea)\n",
        "            x, y, w, h = cv2.boundingRect(largest_contour)\n",
        "\n",
        "            # Crop the image to the bounding box of the digit\n",
        "            cropped_digit = inverted_image[y:y+h, x:x+w]\n",
        "\n",
        "            # Resize the cropped digit to 20x20 while maintaining aspect ratio\n",
        "            height, width = cropped_digit.shape\n",
        "            if height > width:\n",
        "                scale = 20 / height\n",
        "                new_w = int(width * scale)\n",
        "                resized_digit = cv2.resize(cropped_digit, (new_w, 20), interpolation=cv2.INTER_AREA)\n",
        "            else:\n",
        "                scale = 20 / width\n",
        "                new_h = int(height * scale)\n",
        "                resized_digit = cv2.resize(cropped_digit, (20, new_h), interpolation=cv2.INTER_AREA)\n",
        "\n",
        "            # Create a new 28x28 canvas and center the resized digit\n",
        "            processed_image = np.zeros((28, 28), dtype=np.float32)\n",
        "            pad_x = (28 - resized_digit.shape[1]) // 2\n",
        "            pad_y = (28 - resized_digit.shape[0]) // 2\n",
        "            processed_image[pad_y:pad_y+resized_digit.shape[0], pad_x:pad_x+resized_digit.shape[1]] = resized_digit\n",
        "\n",
        "            # Normalize the pixel values\n",
        "            processed_image = processed_image / 255.0\n",
        "\n",
        "            return processed_image, True\n",
        "        else:\n",
        "            return None, False\n",
        "\n",
        "    except Exception as e:\n",
        "        print(f\"Error during preprocessing: {e}\")\n",
        "        return None, False\n",
        "\n",
        "def predict_digit(processed_image):\n",
        "    \"\"\"Make prediction on the processed image\"\"\"\n",
        "    try:\n",
        "        # Reshape for model input\n",
        "        input_image = processed_image.reshape(1, 28, 28, 1)\n",
        "        \n",
        "        # Make prediction\n",
        "        predictions = model.predict(input_image, verbose=0)\n",
        "        predicted_digit = np.argmax(predictions)\n",
        "        confidence = np.max(predictions) * 100\n",
        "        \n",
        "        return predicted_digit, confidence, predictions[0]\n",
        "        \n",
        "    except Exception as e:\n",
        "        print(f\"Error during prediction: {e}\")\n",
        "        return None, None, None\n",
        "\n",
        "# Main function to run digit recognition\n",
        "def run_recognition():\n",
        "    if model is None:\n",
        "        print(\"Error: Model not loaded. Cannot run recognition.\")\n",
        "        return\n",
        "    \n",
        "    print(\"Please draw a digit on a white background and position it clearly in the camera frame.\")\n",
        "    \n",
        "    # Capture image\n",
        "    image_path = take_photo()\n",
        "    print(f\"Image captured: {image_path}\")\n",
        "    \n",
        "    # Process image\n",
        "    processed_image, success = preprocess_image(image_path)\n",
        "    \n",
        "    if not success:\n",
        "        print(\"No digit detected. Please ensure a clear digit is visible in the frame.\")\n",
        "        return\n",
        "    \n",
        "    # Make prediction\n",
        "    predicted_digit, confidence, all_predictions = predict_digit(processed_image)\n",
        "    \n",
        "    if predicted_digit is None:\n",
        "        print(\"Prediction failed.\")\n",
        "        return\n",
        "    \n",
        "    # Display results\n",
        "    plt.figure(figsize=(12, 4))\n",
        "    \n",
        "    # Show processed image\n",
        "    plt.subplot(1, 3, 1)\n",
        "    plt.imshow(processed_image, cmap='gray')\n",
        "    plt.title(f\"Processed Image\")\n",
        "    plt.axis('off')\n",
        "    \n",
        "    # Show confidence for all digits\n",
        "    plt.subplot(1, 3, 2)\n",
        "    digits = list(range(10))\n",
        "    confidences = all_predictions * 100\n",
        "    bars = plt.bar(digits, confidences)\n",
        "    bars[predicted_digit].set_color('green')\n",
        "    plt.title('Confidence for Each Digit')\n",
        "    plt.xlabel('Digit')\n",
        "    plt.ylabel('Confidence (%)')\n",
        "    \n",
        "    # Show top 3 predictions\n",
        "    top_3_indices = np.argsort(all_predictions)[-3:][::-1]\n",
        "    top_3_digits = [str(i) for i in top_3_indices]\n",
        "    top_3_confs = [all_predictions[i] * 100 for i in top_3_indices]\n",
        "    \n",
        "    plt.subplot(1, 3, 3)\n",
        "    colors = ['green', 'orange', 'red']\n",
        "    plt.bar(top_3_digits, top_3_confs, color=colors)\n",
        "    plt.title('Top 3 Predictions')\n",
        "    plt.xlabel('Digit')\n",
        "    plt.ylabel('Confidence (%)')\n",
        "    \n",
        "    plt.tight_layout()\n",
        "    plt.show()\n",
        "    \n",
        "    print(f\"\\nPredicted digit: {predicted_digit}\")\n",
        "    print(f\"Confidence: {confidence:.2f}%\")\n",
        "    \n",
        "    print(f\"\\nTop 3 predictions:\")\n",
        "    for i, idx in enumerate(top_3_indices):\n",
        "        print(f\"{i+1}. Digit {idx}: {all_predictions[idx]*100:.1f}%\")\n",
        "\n",
        "# Check if model is ready\n",
        "if model is not None:\n",
        "    print(\"System ready. Run the cell below to start digit recognition.\")\n",
        "else:\n",
        "    print(\"Please fix the model loading issue before proceeding.\")"
      ]
    },
    {
      "cell_type": "code",
      "execution_count": null,
      "metadata": {},
      "outputs": [],
      "source": [
        "# Run digit recognition\n",
        "run_recognition()\n"
      ]
    },
    {
      "cell_type": "markdown",
      "metadata": {},
      "source": []
    }
  ],
  "metadata": {
    "colab": {
      "provenance": []
    },
    "kernelspec": {
      "display_name": "Python 3",
      "name": "python3"
    },
    "language_info": {
      "name": "python"
    }
  },
  "nbformat": 4,
  "nbformat_minor": 0
}
