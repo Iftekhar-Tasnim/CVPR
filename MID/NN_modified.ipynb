{
 "cells": [
  {
   "cell_type": "markdown",
   "metadata": {
    "id": "zQk0AWGpKdjX"
   },
   "source": [
    "# **Library Imports**"
   ]
  },
  {
   "cell_type": "code",
   "execution_count": 1,
   "metadata": {
    "id": "SwkVtT-_Jyie"
   },
   "outputs": [],
   "source": [
    "import pandas as pd\n",
    "import numpy as np\n",
    "from sklearn.nn_structure_selection import train_test_split\n",
    "from sklearn.preprocessing import LabelEncoder\n",
    "from sklearn.metrics import accuracy_score, precision_recall_fscore_support\n",
    "from tensorflow.keras.preprocessing.text import Tokenizer\n",
    "from tensorflow.keras.preprocessing.sequence import pad_sequences\n",
    "import matplotlib.pyplot as plt"
   ]
  },
  {
   "cell_type": "markdown",
   "metadata": {
    "id": "IL2hsT1bKtaW"
   },
   "source": [
    "# Load Dataset & Processing"
   ]
  },
  {
   "cell_type": "code",
   "execution_count": 2,
   "metadata": {
    "colab": {
     "base_uri": "https://localhost:8080/",
     "height": 91
    },
    "id": "a9aP0Ek7J5dC",
    "outputId": "b51dc5d2-6493-4a4f-a888-42a5e6b9d72e"
   },
   "outputs": [
    {
     "data": {
      "text/html": [
       "\n",
       "     <input type=\"file\" id=\"files-e82ab229-387d-4792-81cd-5c00dcd29453\" name=\"files[]\" multiple disabled\n",
       "        style=\"border:none\" />\n",
       "     <output id=\"result-e82ab229-387d-4792-81cd-5c00dcd29453\">\n",
       "      Upload widget is only available when the cell has been executed in the\n",
       "      current browser session. Please rerun this cell to enable.\n",
       "      </output>\n",
       "      <script>// Copyright 2017 Google LLC\n",
       "//\n",
       "// Licensed under the Apache License, Version 2.0 (the \"License\");\n",
       "// you may not use this file except in compliance with the License.\n",
       "// You may obtain a copy of the License at\n",
       "//\n",
       "//      http://www.apache.org/licenses/LICENSE-2.0\n",
       "//\n",
       "// Unless required by applicable law or agreed to in writing, software\n",
       "// distributed under the License is distributed on an \"AS IS\" BASIS,\n",
       "// WITHOUT WARRANTIES OR CONDITIONS OF ANY KIND, either express or implied.\n",
       "// See the License for the specific language governing permissions and\n",
       "// limitations under the License.\n",
       "\n",
       "/**\n",
       " * @fileoverview Helpers for google.colab Python module.\n",
       " */\n",
       "(function(scope) {\n",
       "function span(text, styleAttributes = {}) {\n",
       "  const element = document.createElement('span');\n",
       "  element.textContent = text;\n",
       "  for (const key of Object.keys(styleAttributes)) {\n",
       "    element.style[key] = styleAttributes[key];\n",
       "  }\n",
       "  return element;\n",
       "}\n",
       "\n",
       "// Max number of bytes which will be uploaded at a time.\n",
       "const MAX_PAYLOAD_SIZE = 100 * 1024;\n",
       "\n",
       "function _uploadFiles(inputId, outputId) {\n",
       "  const steps = uploadFilesStep(inputId, outputId);\n",
       "  const outputElement = document.getElementById(outputId);\n",
       "  // Cache steps on the outputElement to make it available for the next call\n",
       "  // to uploadFilesContinue from Python.\n",
       "  outputElement.steps = steps;\n",
       "\n",
       "  return _uploadFilesContinue(outputId);\n",
       "}\n",
       "\n",
       "// This is roughly an async generator (not supported in the browser yet),\n",
       "// where there are multiple asynchronous steps and the Python side is going\n",
       "// to poll for completion of each step.\n",
       "// This uses a Promise to block the python side on completion of each step,\n",
       "// then passes the result of the previous step as the input to the next step.\n",
       "function _uploadFilesContinue(outputId) {\n",
       "  const outputElement = document.getElementById(outputId);\n",
       "  const steps = outputElement.steps;\n",
       "\n",
       "  const next = steps.next(outputElement.lastPromiseValue);\n",
       "  return Promise.resolve(next.value.promise).then((value) => {\n",
       "    // Cache the last promise value to make it available to the next\n",
       "    // step of the generator.\n",
       "    outputElement.lastPromiseValue = value;\n",
       "    return next.value.response;\n",
       "  });\n",
       "}\n",
       "\n",
       "/**\n",
       " * Generator function which is called between each async step of the upload\n",
       " * process.\n",
       " * @param {string} inputId Element ID of the input file picker element.\n",
       " * @param {string} outputId Element ID of the output display.\n",
       " * @return {!Iterable<!Object>} Iterable of next steps.\n",
       " */\n",
       "function* uploadFilesStep(inputId, outputId) {\n",
       "  const inputElement = document.getElementById(inputId);\n",
       "  inputElement.disabled = false;\n",
       "\n",
       "  const outputElement = document.getElementById(outputId);\n",
       "  outputElement.innerHTML = '';\n",
       "\n",
       "  const pickedPromise = new Promise((resolve) => {\n",
       "    inputElement.addEventListener('change', (e) => {\n",
       "      resolve(e.target.files);\n",
       "    });\n",
       "  });\n",
       "\n",
       "  const cancel = document.createElement('button');\n",
       "  inputElement.parentElement.appendChild(cancel);\n",
       "  cancel.textContent = 'Cancel upload';\n",
       "  const cancelPromise = new Promise((resolve) => {\n",
       "    cancel.onclick = () => {\n",
       "      resolve(null);\n",
       "    };\n",
       "  });\n",
       "\n",
       "  // Wait for the user to pick the files.\n",
       "  const files = yield {\n",
       "    promise: Promise.race([pickedPromise, cancelPromise]),\n",
       "    response: {\n",
       "      action: 'starting',\n",
       "    }\n",
       "  };\n",
       "\n",
       "  cancel.remove();\n",
       "\n",
       "  // Disable the input element since further picks are not allowed.\n",
       "  inputElement.disabled = true;\n",
       "\n",
       "  if (!files) {\n",
       "    return {\n",
       "      response: {\n",
       "        action: 'complete',\n",
       "      }\n",
       "    };\n",
       "  }\n",
       "\n",
       "  for (const file of files) {\n",
       "    const li = document.createElement('li');\n",
       "    li.append(span(file.name, {fontWeight: 'bold'}));\n",
       "    li.append(span(\n",
       "        `(${file.type || 'n/a'}) - ${file.size} bytes, ` +\n",
       "        `last modified: ${\n",
       "            file.lastModifiedDate ? file.lastModifiedDate.toLocaleDateString() :\n",
       "                                    'n/a'} - `));\n",
       "    const percent = span('0% done');\n",
       "    li.appendChild(percent);\n",
       "\n",
       "    outputElement.appendChild(li);\n",
       "\n",
       "    const fileDataPromise = new Promise((resolve) => {\n",
       "      const reader = new FileReader();\n",
       "      reader.onload = (e) => {\n",
       "        resolve(e.target.result);\n",
       "      };\n",
       "      reader.readAsArrayBuffer(file);\n",
       "    });\n",
       "    // Wait for the data to be ready.\n",
       "    let fileData = yield {\n",
       "      promise: fileDataPromise,\n",
       "      response: {\n",
       "        action: 'continue',\n",
       "      }\n",
       "    };\n",
       "\n",
       "    // Use a chunked sending to avoid message size limits. See b/62115660.\n",
       "    let position = 0;\n",
       "    do {\n",
       "      const length = Math.min(fileData.byteLength - position, MAX_PAYLOAD_SIZE);\n",
       "      const chunk = new Uint8Array(fileData, position, length);\n",
       "      position += length;\n",
       "\n",
       "      const base64 = btoa(String.fromCharCode.apply(null, chunk));\n",
       "      yield {\n",
       "        response: {\n",
       "          action: 'append',\n",
       "          file: file.name,\n",
       "          data: base64,\n",
       "        },\n",
       "      };\n",
       "\n",
       "      let percentDone = fileData.byteLength === 0 ?\n",
       "          100 :\n",
       "          Math.round((position / fileData.byteLength) * 100);\n",
       "      percent.textContent = `${percentDone}% done`;\n",
       "\n",
       "    } while (position < fileData.byteLength);\n",
       "  }\n",
       "\n",
       "  // All done.\n",
       "  yield {\n",
       "    response: {\n",
       "      action: 'complete',\n",
       "    }\n",
       "  };\n",
       "}\n",
       "\n",
       "scope.google = scope.google || {};\n",
       "scope.google.colab = scope.google.colab || {};\n",
       "scope.google.colab._files = {\n",
       "  _uploadFiles,\n",
       "  _uploadFilesContinue,\n",
       "};\n",
       "})(self);\n",
       "</script> "
      ],
      "text/plain": [
       "<IPython.core.display.HTML object>"
      ]
     },
     "metadata": {},
     "output_type": "display_data"
    },
    {
     "name": "stdout",
     "output_type": "stream",
     "text": [
      "Saving pricerunner_aggregate.csv to pricerunner_aggregate (8).csv\n",
      "Uploaded file: pricerunner_aggregate (8).csv\n"
     ]
    }
   ],
   "source": [
    "from google.colab import files\n",
    "uploaded = files.upload()\n",
    "\n",
    "file_name = list(uploaded.keys())[0]\n",
    "print(f\"Uploaded file: {file_name}\")\n",
    "\n",
    "# Load dataset\n",
    "df = pd.read_csv(file_name, encoding='latin1', header=None)\n",
    "\n",
    "df = df.iloc[:, [4, 6]]\n",
    "df.columns = ['ProductTitle', 'ProductCategory']\n",
    "df.dropna(inplace=True)\n",
    "\n",
    "# Preprocessing Dataset\n",
    "tokenizer = Tokenizer(num_words=5000)\n",
    "tokenizer.fit_on_texts(df['ProductTitle'])\n",
    "X = tokenizer.texts_to_sequences(df['ProductTitle'])\n",
    "X = pad_sequences(X)\n",
    "label_encoder = LabelEncoder()\n",
    "y = label_encoder.fit_transform(df['ProductCategory'])\n",
    "num_classes = len(np.unique(y))\n",
    "y = np.eye(num_classes)[y]\n",
    "\n",
    "# Split the data\n",
    "X_train, X_test, train_labels, test_labels = train_test_split(X, y, test_size=0.2, random_state=42)"
   ]
  },
  {
   "cell_type": "markdown",
   "metadata": {
    "id": "xzjsX2IwK_7B"
   },
   "source": [
    "# NN structure"
   ]
  },
  {
   "cell_type": "code",
   "execution_count": 3,
   "metadata": {
    "id": "-1WNppxGKESs"
   },
   "outputs": [],
   "source": [
    "class NeuralNetwork(object):\n",
    "\n",
    "  def __init__(self):\n",
    "\n",
    "    inputLayerNeurons = X_train.shape[1]\n",
    "    hiddenLayer1Neurons = 64\n",
    "    hiddenLayer2Neurons = 32\n",
    "    hiddenLayer3Neurons = 16\n",
    "    hiddenLayer4Neurons = 8\n",
    "    outLayerNeurons = 4\n",
    "\n",
    "    self.learning_rate = 0.0001\n",
    "\n",
    "    self.W_H1I = np.random.randn(inputLayerNeurons, hiddenLayer1Neurons) * np.sqrt(2.0/inputLayerNeurons)\n",
    "    self.W_H2H1 = np.random.randn(hiddenLayer1Neurons, hiddenLayer2Neurons) * np.sqrt(2.0/hiddenLayer1Neurons)\n",
    "    self.W_H3H2 = np.random.randn(hiddenLayer2Neurons, hiddenLayer3Neurons) * np.sqrt(2.0/hiddenLayer2Neurons)\n",
    "    self.W_H4H3 = np.random.randn(hiddenLayer3Neurons, hiddenLayer4Neurons) * np.sqrt(2.0/hiddenLayer3Neurons)\n",
    "    self.W_OH4 = np.random.randn(hiddenLayer4Neurons, outLayerNeurons) * np.sqrt(2.0/hiddenLayer4Neurons)\n",
    "\n",
    "  def sigmoid(self, x, der=False):\n",
    "\n",
    "    sig = 1 / (1 + np.exp(-x))\n",
    "    if der:\n",
    "      return sig * (1 - sig)\n",
    "    return sig\n",
    "\n",
    "  def softmax(self, x):\n",
    "\n",
    "    exp_x = np.exp(x - np.max(x, axis=1, keepdims=True))\n",
    "    return exp_x / exp_x.sum(axis=1, keepdims=True)\n",
    "\n",
    "  def feedForward(self, X):\n",
    "\n",
    "    # Layer 1\n",
    "    self.hidden1_input = np.dot(X, self.W_H1I)\n",
    "    self.hidden1_output = self.sigmoid(self.hidden1_input)\n",
    "\n",
    "    # Layer 2\n",
    "    self.hidden2_input = np.dot(self.hidden1_output, self.W_H2H1)\n",
    "    self.hidden2_output = self.sigmoid(self.hidden2_input)\n",
    "\n",
    "    # Layer 3\n",
    "    self.hidden3_input = np.dot(self.hidden2_output, self.W_H3H2)\n",
    "    self.hidden3_output = self.sigmoid(self.hidden3_input)\n",
    "\n",
    "    # Layer 4\n",
    "    self.hidden4_input = np.dot(self.hidden3_output, self.W_H4H3)\n",
    "    self.hidden4_output = self.sigmoid(self.hidden4_input)\n",
    "\n",
    "    # Output layer\n",
    "    output_input = np.dot(self.hidden4_output, self.W_OH4)\n",
    "    pred = self.softmax(output_input)\n",
    "    return pred\n",
    "\n",
    "  def calculate_class_weights(self, y):\n",
    "    # Calculate class weights\n",
    "    class_counts = np.sum(y, axis=0)\n",
    "    total_samples = np.sum(class_counts)\n",
    "    class_weights = np.zeros_like(class_counts, dtype=float)\n",
    "    non_zero_counts_indices = class_counts > 0\n",
    "    class_weights[non_zero_counts_indices] = total_samples / (len(class_counts) * class_counts[non_zero_counts_indices])\n",
    "    return class_weights\n",
    "\n",
    "  def backPropagation(self, X, Y, pred):\n",
    "\n",
    "    # Output layer error\n",
    "    output_error = pred - Y\n",
    "    delta_output = output_error\n",
    "\n",
    "    # Layer 4\n",
    "    hidden4_error = delta_output.dot(self.W_OH4.T)\n",
    "    delta_hidden4 = hidden4_error * self.sigmoid(self.hidden4_output, der=True)\n",
    "\n",
    "    # Layer 3\n",
    "    hidden3_error = delta_hidden4.dot(self.W_H4H3.T)\n",
    "    delta_hidden3 = hidden3_error * self.sigmoid(self.hidden3_output, der=True)\n",
    "\n",
    "    # Layer 2\n",
    "    hidden2_error = delta_hidden3.dot(self.W_H3H2.T)\n",
    "    delta_hidden2 = hidden2_error * self.sigmoid(self.hidden2_output, der=True)\n",
    "\n",
    "    # Layer 1\n",
    "    hidden1_error = delta_hidden2.dot(self.W_H2H1.T)\n",
    "    delta_hidden1 = hidden1_error * self.sigmoid(self.hidden1_output, der=True)\n",
    "\n",
    "    # weights\n",
    "    self.W_OH4 -= self.learning_rate * self.hidden4_output.T.dot(delta_output)\n",
    "    self.W_H4H3 -= self.learning_rate * self.hidden3_output.T.dot(delta_hidden4)\n",
    "    self.W_H3H2 -= self.learning_rate * self.hidden2_output.T.dot(delta_hidden3)\n",
    "    self.W_H2H1 -= self.learning_rate * self.hidden1_output.T.dot(delta_hidden2)\n",
    "    self.W_H1I -= self.learning_rate * X.T.dot(delta_hidden1)\n",
    "\n",
    "  def train(self, X, Y, epochs=1000):\n",
    "    for epoch in range(epochs):\n",
    "      predictions = self.feedForward(X)\n",
    "      self.backPropagation(X, Y, predictions)"
   ]
  },
  {
   "cell_type": "markdown",
   "metadata": {
    "id": "ZbhzRjjMRlJT"
   },
   "source": [
    "# **Fit**"
   ]
  },
  {
   "cell_type": "code",
   "execution_count": 4,
   "metadata": {
    "colab": {
     "base_uri": "https://localhost:8080/",
     "height": 599
    },
    "id": "L3oPOpOkKIwt",
    "outputId": "d35f9893-8ad5-4884-ea09-820c4199de1b"
   },
   "outputs": [
    {
     "name": "stderr",
     "output_type": "stream",
     "text": [
      "/tmp/ipython-input-1858692608.py:22: RuntimeWarning: overflow encountered in exp\n",
      "  sig = 1 / (1 + np.exp(-x))\n"
     ]
    },
    {
     "data": {
      "image/png": "[encoded data removed]",
      "text/plain": [
       "<Figure size 1000x600 with 1 Axes>"
      ]
     },
     "metadata": {},
     "output_type": "display_data"
    }
   ],
   "source": [
    "nn_nn_structure = NeuralNetwork()\n",
    "training_errors = []\n",
    "\n",
    "for epoch in range(2000):\n",
    "  predictions = nn_nn_structure.feedForward(X_train)\n",
    "  nn_nn_structure.backPropagation(X_train, train_labels, predictions)\n",
    "  error = np.mean(np.square(predictions - train_labels))\n",
    "  training_errors.append(error)\n",
    "\n",
    "# Plot the graph\n",
    "plt.figure(figsize=(10, 6))\n",
    "plt.plot(training_errors)\n",
    "plt.xlabel('Epochs')\n",
    "plt.ylabel('Error')\n",
    "plt.title('Error Graph')\n",
    "plt.grid(True)\n",
    "plt.show()\n",
    "\n",
    "\n",
    "test_predictions = nn_nn_structure.feedForward(X_test)\n",
    "test_predictions_classes = np.argmax(test_predictions, axis=1)\n",
    "true_labels = np.argmax(test_labels, axis=1)\n",
    "\n",
    "accuracy = accuracy_score(true_labels, test_predictions_classes)\n",
    "precision, recall, f1, _ = precision_recall_fscore_support(true_labels, test_predictions_classes, average=None, zero_division=0)\n"
   ]
  },
  {
   "cell_type": "markdown",
   "metadata": {
    "id": "rLeeobRGnPsE"
   },
   "source": [
    "# Accuracy"
   ]
  },
  {
   "cell_type": "code",
   "execution_count": 5,
   "metadata": {
    "colab": {
     "base_uri": "https://localhost:8080/"
    },
    "id": "nkJJVcb_nWjU",
    "outputId": "e7bff8aa-e2a5-4492-b92c-5a4cf63c4d69"
   },
   "outputs": [
    {
     "name": "stdout",
     "output_type": "stream",
     "text": [
      "Accuracy: 0.629887054735013\n",
      "Class 'CPUs' — Precision: 0.82, Recall: 0.87, F1-score: 0.85\n",
      "Class 'Mobile Phones' — Precision: 0.70, Recall: 0.11, F1-score: 0.19\n",
      "Class 'TVs' — Precision: 0.51, Recall: 1.00, F1-score: 0.68\n"
     ]
    }
   ],
   "source": [
    "print(\"Accuracy:\", accuracy)\n",
    "\n",
    "for class_index in range(len(label_encoder.classes_)):\n",
    "  class_name = label_encoder.classes_[class_index]\n",
    "  print(f\"Class '{class_name}' — Precision: {precision[class_index]:.2f}, Recall: {recall[class_index]:.2f}, F1-score: {f1[class_index]:.2f}\")"
   ]
  },
  {
   "cell_type": "markdown",
   "metadata": {
    "id": "HoGphadcRtwk"
   },
   "source": [
    "# Get the expected input shape from the training data"
   ]
  },
  {
   "cell_type": "code",
   "execution_count": 6,
   "metadata": {
    "colab": {
     "base_uri": "https://localhost:8080/"
    },
    "id": "2zIBe6X_JdIr",
    "outputId": "20e1593d-6276-48b1-d728-d116c659b1b2"
   },
   "outputs": [
    {
     "name": "stdout",
     "output_type": "stream",
     "text": [
      "[[8.33175017e-01 1.66661151e-01 1.63832922e-04]]\n"
     ]
    }
   ],
   "source": [
    "input_shape = X_train.shape[1]\n",
    "sample_input = np.zeros((1, input_shape))\n",
    "print(nn_nn_structure.feedForward(sample_input))"
   ]
  }
 ],
 "metadata": {
  "accelerator": "GPU",
  "colab": {
   "gpuType": "T4",
   "provenance": []
  },
  "kernelspec": {
   "display_name": "Python 3",
   "name": "python3"
  },
  "language_info": {
   "name": "python"
  }
 },
 "nbformat": 4,
 "nbformat_minor": 0
}
